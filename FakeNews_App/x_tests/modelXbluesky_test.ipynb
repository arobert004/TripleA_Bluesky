{
 "cells": [
  {
   "cell_type": "code",
   "execution_count": 1,
   "id": "474b0e84",
   "metadata": {},
   "outputs": [
    {
     "name": "stdout",
     "output_type": "stream",
     "text": [
      "WARNING:tensorflow:From C:\\Users\\aro40\\AppData\\Roaming\\Python\\Python311\\site-packages\\tf_keras\\src\\losses.py:2976: The name tf.losses.sparse_softmax_cross_entropy is deprecated. Please use tf.compat.v1.losses.sparse_softmax_cross_entropy instead.\n",
      "\n"
     ]
    },
    {
     "name": "stderr",
     "output_type": "stream",
     "text": [
      "Device set to use cpu\n"
     ]
    },
    {
     "name": "stdout",
     "output_type": "stream",
     "text": [
      "I love this product! It's absolutely amazing.\n",
      "[{'label': 'love', 'score': 0.8030408620834351}, {'label': 'admiration', 'score': 0.7699857354164124}, {'label': 'joy', 'score': 0.027310136705636978}]\n",
      "This is the worst experience I've ever had.\n",
      "[{'label': 'disgust', 'score': 0.2684014141559601}, {'label': 'disappointment', 'score': 0.21605296432971954}, {'label': 'annoyance', 'score': 0.18567699193954468}]\n",
      "I'm feeling great today, everything is going well.\n",
      "[{'label': 'joy', 'score': 0.6397374272346497}, {'label': 'admiration', 'score': 0.5056352019309998}, {'label': 'approval', 'score': 0.10274945944547653}]\n",
      "I'm so disappointed with the service, it was terrible.\n",
      "[{'label': 'disappointment', 'score': 0.5121172070503235}, {'label': 'sadness', 'score': 0.17005327343940735}, {'label': 'fear', 'score': 0.10088013857603073}]\n",
      "What a fantastic movie! I enjoyed every moment of it.\n",
      "[{'label': 'admiration', 'score': 0.7756890654563904}, {'label': 'joy', 'score': 0.7384395003318787}, {'label': 'amusement', 'score': 0.05662013217806816}]\n",
      "I can't stand this anymore, it's so frustrating!\n",
      "[{'label': 'annoyance', 'score': 0.6180362105369568}, {'label': 'anger', 'score': 0.44268369674682617}, {'label': 'disapproval', 'score': 0.06244802474975586}]\n",
      "The food was delicious, I would definitely come back.\n",
      "[{'label': 'admiration', 'score': 0.9100810885429382}, {'label': 'approval', 'score': 0.1991250216960907}, {'label': 'optimism', 'score': 0.03705957904458046}]\n",
      "I'm feeling a bit down today, not my best day.\n",
      "[{'label': 'disappointment', 'score': 0.6016541123390198}, {'label': 'sadness', 'score': 0.18194401264190674}, {'label': 'annoyance', 'score': 0.09390919655561447}]\n",
      "The skye is blue\n",
      "[{'label': 'neutral', 'score': 0.9667752385139465}, {'label': 'approval', 'score': 0.02142111398279667}, {'label': 'realization', 'score': 0.00810204166918993}]\n",
      "I regret buying this, it was a complete waste of money.\n",
      "[{'label': 'remorse', 'score': 0.7472405433654785}, {'label': 'sadness', 'score': 0.21044132113456726}, {'label': 'disappointment', 'score': 0.07952441275119781}]\n"
     ]
    }
   ],
   "source": [
    "from transformers import pipeline\n",
    "import pandas as pd\n",
    "\n",
    "\n",
    "classifier = pipeline(task=\"text-classification\", model=\"SamLowe/roberta-base-go_emotions\", top_k=None)\n",
    "\n",
    "sentences = [\n",
    "    \"I love this product! It's absolutely amazing.\",\n",
    "    \"This is the worst experience I've ever had.\",\n",
    "    \"I'm feeling great today, everything is going well.\",\n",
    "    \"I'm so disappointed with the service, it was terrible.\",\n",
    "    \"What a fantastic movie! I enjoyed every moment of it.\",\n",
    "    \"I can't stand this anymore, it's so frustrating!\",\n",
    "    \"The food was delicious, I would definitely come back.\",\n",
    "    \"I'm feeling a bit down today, not my best day.\",\n",
    "    \"The skye is blue\",\n",
    "    \"I regret buying this, it was a complete waste of money.\"\n",
    "]\n",
    "\n",
    "for sentence in sentences : \n",
    "    model_outputs = classifier(sentence)\n",
    "    print(sentence)\n",
    "    print(model_outputs[0][:3])"
   ]
  },
  {
   "cell_type": "code",
   "execution_count": 3,
   "id": "34ec202a",
   "metadata": {},
   "outputs": [
    {
     "name": "stdout",
     "output_type": "stream",
     "text": [
      "at://mikemelton.bsky.social/app.bsky.feed.post/3lr7u3kyi5225\n"
     ]
    }
   ],
   "source": [
    "from atproto import Client\n",
    "\n",
    "handle = r\"mikemelton.bsky.social\"\n",
    "post_id = r\"3lr7u3kyi5225\"\n",
    "\n",
    "\n",
    "client = Client()\n",
    "client.login(login='aro402@hotmail.fr', password='gamertag')\n",
    "\n",
    "# Construire l'URI du post\n",
    "uri = f'at://{handle}/app.bsky.feed.post/{post_id}'\n",
    "\n",
    "# Récupérer le post\n",
    "response = client.app.bsky.feed.get_post_thread({'uri': uri})\n",
    "thread_data = response.model_dump()\n",
    "\n",
    "    \n",
    "post = thread_data['thread']['post']\n",
    "\n",
    "print(uri)"
   ]
  },
  {
   "cell_type": "code",
   "execution_count": 17,
   "id": "f92ee86e",
   "metadata": {},
   "outputs": [
    {
     "data": {
      "text/plain": [
       "[{'label': 'admiration', 'score': 0.6758760213851929},\n",
       " {'label': 'neutral', 'score': 0.30907952785491943},\n",
       " {'label': 'approval', 'score': 0.0780540257692337}]"
      ]
     },
     "execution_count": 17,
     "metadata": {},
     "output_type": "execute_result"
    }
   ],
   "source": [
    "classifier(post['record']['text'])[0][:3]"
   ]
  },
  {
   "cell_type": "markdown",
   "id": "6c2dea65",
   "metadata": {},
   "source": [
    "# lighteternal/fact-or-opinion-xlmr-el"
   ]
  },
  {
   "cell_type": "code",
   "execution_count": null,
   "id": "2b284133",
   "metadata": {},
   "outputs": [
    {
     "name": "stderr",
     "output_type": "stream",
     "text": [
      "Device set to use cpu\n"
     ]
    },
    {
     "name": "stdout",
     "output_type": "stream",
     "text": [
      "One of the coolest features of the Agami Heron is its gorgeous, flowing crest that flutters as it poses and preens. But I've never seen it up close before with the details and textures.\n",
      "\n",
      "#CostaRica #herons #nature #birds\n"
     ]
    },
    {
     "data": {
      "text/plain": [
       "[{'label': 'LABEL_0', 'score': 0.9971644282341003}]"
      ]
     },
     "execution_count": 21,
     "metadata": {},
     "output_type": "execute_result"
    }
   ],
   "source": [
    "fact_or_opi = pipeline(\"text-classification\", model=\"lighteternal/fact-or-opinion-xlmr-el\")\n",
    "\n",
    "# Label 0: Opinion/Subjective sentence\n",
    "# Label 1: Fact/Objective sentence\n",
    "\n",
    "print(post['record']['text'])\n",
    "fact_or_opi(post['record']['text'])"
   ]
  },
  {
   "cell_type": "code",
   "execution_count": 24,
   "id": "e5d70c16",
   "metadata": {},
   "outputs": [
    {
     "data": {
      "text/plain": [
       "[{'label': 'LABEL_1', 'score': 0.9981133937835693}]"
      ]
     },
     "execution_count": 24,
     "metadata": {},
     "output_type": "execute_result"
    }
   ],
   "source": [
    "test = \"a love story played out against a backdrop of political and religious upheaval\"\n",
    "\n",
    "fact_or_opi(test)"
   ]
  },
  {
   "cell_type": "markdown",
   "id": "e58c8b79",
   "metadata": {},
   "source": [
    "# positive / neutral / negative "
   ]
  },
  {
   "cell_type": "code",
   "execution_count": 25,
   "id": "1e131300",
   "metadata": {},
   "outputs": [
    {
     "data": {
      "application/vnd.jupyter.widget-view+json": {
       "model_id": "cf614cd07bc344fbb50be4db92f66970",
       "version_major": 2,
       "version_minor": 0
      },
      "text/plain": [
       "config.json:   0%|          | 0.00/929 [00:00<?, ?B/s]"
      ]
     },
     "metadata": {},
     "output_type": "display_data"
    },
    {
     "name": "stderr",
     "output_type": "stream",
     "text": [
      "C:\\Users\\aro40\\AppData\\Roaming\\Python\\Python311\\site-packages\\huggingface_hub\\file_download.py:140: UserWarning: `huggingface_hub` cache-system uses symlinks by default to efficiently store duplicated files but your machine does not support them in C:\\Users\\aro40\\.cache\\huggingface\\hub\\models--cardiffnlp--twitter-roberta-base-sentiment-latest. Caching files will still work but in a degraded version that might require more space on your disk. This warning can be disabled by setting the `HF_HUB_DISABLE_SYMLINKS_WARNING` environment variable. For more details, see https://huggingface.co/docs/huggingface_hub/how-to-cache#limitations.\n",
      "To support symlinks on Windows, you either need to activate Developer Mode or to run Python as an administrator. In order to activate developer mode, see this article: https://docs.microsoft.com/en-us/windows/apps/get-started/enable-your-device-for-development\n",
      "  warnings.warn(message)\n"
     ]
    },
    {
     "data": {
      "application/vnd.jupyter.widget-view+json": {
       "model_id": "5e54d441b71a445594e4b302eaa2bd13",
       "version_major": 2,
       "version_minor": 0
      },
      "text/plain": [
       "pytorch_model.bin:   0%|          | 0.00/501M [00:00<?, ?B/s]"
      ]
     },
     "metadata": {},
     "output_type": "display_data"
    },
    {
     "name": "stderr",
     "output_type": "stream",
     "text": [
      "Some weights of the model checkpoint at cardiffnlp/twitter-roberta-base-sentiment-latest were not used when initializing RobertaForSequenceClassification: ['roberta.pooler.dense.bias', 'roberta.pooler.dense.weight']\n",
      "- This IS expected if you are initializing RobertaForSequenceClassification from the checkpoint of a model trained on another task or with another architecture (e.g. initializing a BertForSequenceClassification model from a BertForPreTraining model).\n",
      "- This IS NOT expected if you are initializing RobertaForSequenceClassification from the checkpoint of a model that you expect to be exactly identical (initializing a BertForSequenceClassification model from a BertForSequenceClassification model).\n"
     ]
    },
    {
     "data": {
      "application/vnd.jupyter.widget-view+json": {
       "model_id": "e56f55d2f9674d7782554f7c8c77317d",
       "version_major": 2,
       "version_minor": 0
      },
      "text/plain": [
       "vocab.json:   0%|          | 0.00/899k [00:00<?, ?B/s]"
      ]
     },
     "metadata": {},
     "output_type": "display_data"
    },
    {
     "data": {
      "application/vnd.jupyter.widget-view+json": {
       "model_id": "5d0548c48b8a49d2a0edb6f9eb5de52e",
       "version_major": 2,
       "version_minor": 0
      },
      "text/plain": [
       "merges.txt:   0%|          | 0.00/456k [00:00<?, ?B/s]"
      ]
     },
     "metadata": {},
     "output_type": "display_data"
    },
    {
     "data": {
      "application/vnd.jupyter.widget-view+json": {
       "model_id": "cef3a792250a4bbb9dda90f9fd06b002",
       "version_major": 2,
       "version_minor": 0
      },
      "text/plain": [
       "model.safetensors:   0%|          | 0.00/501M [00:00<?, ?B/s]"
      ]
     },
     "metadata": {},
     "output_type": "display_data"
    },
    {
     "data": {
      "application/vnd.jupyter.widget-view+json": {
       "model_id": "18cef5b8df5f41c996f07c2aa627199e",
       "version_major": 2,
       "version_minor": 0
      },
      "text/plain": [
       "special_tokens_map.json:   0%|          | 0.00/239 [00:00<?, ?B/s]"
      ]
     },
     "metadata": {},
     "output_type": "display_data"
    },
    {
     "name": "stderr",
     "output_type": "stream",
     "text": [
      "Device set to use cpu\n"
     ]
    },
    {
     "name": "stdout",
     "output_type": "stream",
     "text": [
      "One of the coolest features of the Agami Heron is its gorgeous, flowing crest that flutters as it poses and preens. But I've never seen it up close before with the details and textures.\n",
      "\n",
      "#CostaRica #herons #nature #birds\n"
     ]
    },
    {
     "data": {
      "text/plain": [
       "[{'label': 'positive', 'score': 0.9484643936157227}]"
      ]
     },
     "execution_count": 25,
     "metadata": {},
     "output_type": "execute_result"
    }
   ],
   "source": [
    "\n",
    "pos_or_neg = pipeline(\"text-classification\", model=\"cardiffnlp/twitter-roberta-base-sentiment-latest\")\n",
    "\n",
    "print(post['record']['text'])\n",
    "pos_or_neg(post['record']['text'])"
   ]
  },
  {
   "cell_type": "code",
   "execution_count": 26,
   "id": "9c9b4e12",
   "metadata": {},
   "outputs": [
    {
     "name": "stdout",
     "output_type": "stream",
     "text": [
      "I love this product! It's absolutely amazing.\n",
      "[{'label': 'positive', 'score': 0.9867914915084839}]\n",
      "This is the worst experience I've ever had.\n",
      "[{'label': 'negative', 'score': 0.9504694938659668}]\n",
      "I'm feeling great today, everything is going well.\n",
      "[{'label': 'positive', 'score': 0.9859079718589783}]\n",
      "I'm so disappointed with the service, it was terrible.\n",
      "[{'label': 'negative', 'score': 0.9459280371665955}]\n",
      "What a fantastic movie! I enjoyed every moment of it.\n",
      "[{'label': 'positive', 'score': 0.9869416356086731}]\n",
      "I can't stand this anymore, it's so frustrating!\n",
      "[{'label': 'negative', 'score': 0.9508921504020691}]\n",
      "The food was delicious, I would definitely come back.\n",
      "[{'label': 'positive', 'score': 0.9859117269515991}]\n",
      "I'm feeling a bit down today, not my best day.\n",
      "[{'label': 'negative', 'score': 0.8964412808418274}]\n",
      "The skye is blue\n",
      "[{'label': 'neutral', 'score': 0.8229114413261414}]\n",
      "I regret buying this, it was a complete waste of money.\n",
      "[{'label': 'negative', 'score': 0.9449048042297363}]\n"
     ]
    }
   ],
   "source": [
    "for sentence in sentences : \n",
    "    \n",
    "    print(sentence)\n",
    "    print( pos_or_neg(sentence))"
   ]
  },
  {
   "cell_type": "markdown",
   "id": "22393c62",
   "metadata": {},
   "source": [
    "# FAKE NEWS "
   ]
  },
  {
   "cell_type": "code",
   "execution_count": 27,
   "id": "e597ea6b",
   "metadata": {},
   "outputs": [
    {
     "name": "stderr",
     "output_type": "stream",
     "text": [
      "Device set to use cpu\n"
     ]
    },
    {
     "name": "stdout",
     "output_type": "stream",
     "text": [
      "I love this product! It's absolutely amazing.\n",
      "[{'label': 'LABEL_0', 'score': 0.9991907477378845}]\n",
      "This is the worst experience I've ever had.\n",
      "[{'label': 'LABEL_0', 'score': 0.9987156391143799}]\n",
      "I'm feeling great today, everything is going well.\n",
      "[{'label': 'LABEL_0', 'score': 0.9894822835922241}]\n",
      "I'm so disappointed with the service, it was terrible.\n",
      "[{'label': 'LABEL_0', 'score': 0.9985558390617371}]\n",
      "What a fantastic movie! I enjoyed every moment of it.\n",
      "[{'label': 'LABEL_0', 'score': 0.9988149404525757}]\n",
      "I can't stand this anymore, it's so frustrating!\n",
      "[{'label': 'LABEL_0', 'score': 0.9987762570381165}]\n",
      "The food was delicious, I would definitely come back.\n",
      "[{'label': 'LABEL_0', 'score': 0.997968852519989}]\n",
      "I'm feeling a bit down today, not my best day.\n",
      "[{'label': 'LABEL_0', 'score': 0.9969469904899597}]\n",
      "The skye is blue\n",
      "[{'label': 'LABEL_0', 'score': 0.9968243837356567}]\n",
      "I regret buying this, it was a complete waste of money.\n",
      "[{'label': 'LABEL_0', 'score': 0.9986674785614014}]\n"
     ]
    }
   ],
   "source": [
    "\n",
    "fake_news = pipeline(\"text-classification\", model=\"jy46604790/Fake-News-Bert-Detect\")\n",
    "\n",
    "for sentence in sentences : \n",
    "    \n",
    "    print(sentence)\n",
    "    print(fake_news(sentence))"
   ]
  },
  {
   "cell_type": "code",
   "execution_count": 34,
   "id": "a8a3c712",
   "metadata": {},
   "outputs": [
    {
     "data": {
      "text/plain": [
       "[{'label': 'LABEL_0', 'score': 0.9948185086250305}]"
      ]
     },
     "execution_count": 34,
     "metadata": {},
     "output_type": "execute_result"
    }
   ],
   "source": [
    "fake_news('Unhealthy food every day may conduct to higher risk of premature death')"
   ]
  },
  {
   "cell_type": "markdown",
   "id": "c9871f51",
   "metadata": {},
   "source": [
    "# Perplexity "
   ]
  },
  {
   "cell_type": "code",
   "execution_count": null,
   "id": "411654f4",
   "metadata": {},
   "outputs": [],
   "source": [
    "import os\n",
    "import requests\n",
    "from flask import Flask, request, jsonify\n",
    "import json\n",
    "import re\n",
    "\n",
    "def extract_json_from_markdown(content):\n",
    "    # Supprime les balises ```json et ``` autour\n",
    "    match = re.search(r\"```json\\s*(\\{.*?\\})\\s*```\", content, re.DOTALL)\n",
    "    if match:\n",
    "        return match.group(1)\n",
    "    # Si le markdown est absent, tenter avec un JSON brut\n",
    "    if content.strip().startswith(\"{\") and content.strip().endswith(\"}\"):\n",
    "        return content.strip()\n",
    "    return None\n",
    "\n",
    "\n",
    "API_KEY = r\"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\"\n",
    "MODEL = \"sonar\"\n",
    "\n",
    "\n",
    "\n",
    "text = r\"Trump depuis son élection en 2024 a permis de solidement relancé le commerce internationale et l'économie américaine\"\n",
    "\n",
    "prompt = (\n",
    "    'System: Tu es un détecteur de fake news, répond en JSON seulement.\\n'\n",
    "    f'User: Vérifie ce texte : \"{text}\".\\n'\n",
    "    '1. Donne la probabilité de fake news (valeur entre 0–1). '\n",
    "    '2. Donne les 3 sources web les plus pertinentes (URL). '\n",
    "    'dont au moins une source qui permet d infirmer si le texte est une fake news'\n",
    "    'Répond au format exact : '\n",
    "    '{\"fake_news_prob\": 0.78, \"source1\": \"...\", \"source2\": \"...\", \"source3\": \"...\"}'\n",
    ")\n",
    "\n",
    "resp = requests.post(\n",
    "    \"https://api.perplexity.ai/chat/completions\",\n",
    "    headers={\n",
    "        \"Authorization\": f\"Bearer {API_KEY}\",\n",
    "        \"Content-Type\": \"application/json\"\n",
    "    },\n",
    "    json={\n",
    "        \"model\": MODEL,\n",
    "        \"messages\": [\n",
    "            {\"role\": \"system\", \"content\": \"Tu es un détecteur de fake news, répond en JSON seulement.\"},\n",
    "            {\"role\": \"user\", \"content\": prompt}\n",
    "        ],\n",
    "        \"temperature\": 0.0,\n",
    "        \"max_tokens\": 200\n",
    "    },\n",
    "    timeout=30\n",
    ")\n",
    "resp.raise_for_status()\n",
    "content = resp.json()[\"choices\"][0][\"message\"][\"content\"]\n",
    "\n",
    "try:\n",
    "    result = json.loads(content)\n",
    "except Exception:\n",
    "    result = json.loads(extract_json_from_markdown(content))\n",
    "    \n",
    "result"
   ]
  }
 ],
 "metadata": {
  "kernelspec": {
   "display_name": "Python 3",
   "language": "python",
   "name": "python3"
  },
  "language_info": {
   "codemirror_mode": {
    "name": "ipython",
    "version": 3
   },
   "file_extension": ".py",
   "mimetype": "text/x-python",
   "name": "python",
   "nbconvert_exporter": "python",
   "pygments_lexer": "ipython3",
   "version": "3.11.8"
  }
 },
 "nbformat": 4,
 "nbformat_minor": 5
}
